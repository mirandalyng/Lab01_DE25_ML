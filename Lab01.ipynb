{
 "cells": [
  {
   "cell_type": "markdown",
   "metadata": {},
   "source": [
    "# Lab 01"
   ]
  },
  {
   "cell_type": "markdown",
   "metadata": {},
   "source": [
    "## Task 01"
   ]
  },
  {
   "cell_type": "markdown",
   "metadata": {},
   "source": [
    "About DNA data: DNA (or deoxyribonucleic acid) is the building block of life. They can be decoded\n",
    "into four letters: A, T, C and G, which represents adenine, thymine, cytosine and guanine. International\n",
    "scientists have been striving to analyze DNA data to improve our understanding of genetic diseases.\n",
    "This research is highly data-intensive as a single human cell can be decoded into 6 billions of DNA\n",
    "letters. Check out The Human Genome Project if you are interested to know more\n",
    "\n",
    "#### some notes from this information \n",
    "\n",
    "- according to the information there is only 4 different values that need to be searched for (atcg). \n",
    "- its also not case sensitive which means there doesn't have to be a control to check upper/lower \n",
    "- each seq has a seq id that starts with >\n",
    "\n",
    "\n"
   ]
  },
  {
   "cell_type": "markdown",
   "metadata": {},
   "source": [
    "### Pseducode\n",
    "\n",
    "1. read the file \n",
    "2."
   ]
  },
  {
   "cell_type": "markdown",
   "metadata": {},
   "source": [
    "## first step is to open and read the file dna_raw.txt"
   ]
  },
  {
   "cell_type": "code",
   "execution_count": null,
   "metadata": {},
   "outputs": [
    {
     "ename": "",
     "evalue": "",
     "output_type": "error",
     "traceback": [
      "\u001b[1;31mRunning cells with '.venv' requires the ipykernel package.\n",
      "\u001b[1;31mRun the following command to install 'ipykernel' into the Python environment. \n",
      "\u001b[1;31mCommand: '/Users/mirandalyng/Desktop/Data_engineer/GitHub_repos/Lab01_DE25_ML/.venv/bin/python -m pip install ipykernel -U --force-reinstall'"
     ]
    }
   ],
   "source": [
    "#use with and then open() to open the txt file and save it in the variable f \n",
    "#then read() the file and save it in variable dna_text \n",
    "with open(\"dna_raw.txt\", \"r\") as f: \n",
    "    dna_text = f.read()\n",
    "\n",
    "print(dna_text)"
   ]
  },
  {
   "cell_type": "markdown",
   "metadata": {},
   "source": []
  }
 ],
 "metadata": {
  "kernelspec": {
   "display_name": ".venv",
   "language": "python",
   "name": "python3"
  },
  "language_info": {
   "name": "python",
   "version": "3.12.9"
  }
 },
 "nbformat": 4,
 "nbformat_minor": 2
}
