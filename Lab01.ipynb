{
 "cells": [
  {
   "cell_type": "markdown",
   "metadata": {},
   "source": [
    "# Miranda Lyng\n"
   ]
  },
  {
   "cell_type": "markdown",
   "metadata": {},
   "source": [
    "# Lab 01\n"
   ]
  },
  {
   "cell_type": "markdown",
   "metadata": {},
   "source": [
    "## Task 01\n"
   ]
  },
  {
   "cell_type": "markdown",
   "metadata": {},
   "source": [
    "About DNA data: DNA (or deoxyribonucleic acid) is the building block of life. They can be decoded\n",
    "into four letters: A, T, C and G, which represents adenine, thymine, cytosine and guanine. International\n",
    "scientists have been striving to analyze DNA data to improve our understanding of genetic diseases.\n",
    "This research is highly data-intensive as a single human cell can be decoded into 6 billions of DNA\n",
    "letters. Check out The Human Genome Project if you are interested to know more\n",
    "\n",
    "#### some notes from this information\n",
    "\n",
    "- according to the information there is only 4 different values that need to be searched for (atcg).\n",
    "- its also not case sensitive which means there have to be a control to check upper/lower\n",
    "- each seq has a seq id that starts with >\n"
   ]
  },
  {
   "cell_type": "markdown",
   "metadata": {},
   "source": [
    "## open and read the file dna_raw.txt\n"
   ]
  },
  {
   "cell_type": "markdown",
   "metadata": {},
   "source": [
    "##### Sources:\n",
    "\n",
    "https://www.w3schools.com/python/python_dictionaries.asp\n",
    "\n",
    "https://www.w3schools.com/python/python_strings_methods.asp\n",
    "\n",
    "https://www.w3schools.com/python/ref_func_next.asp\n",
    "\n",
    "https://www.w3schools.com/python/matplotlib_bars.asp\n",
    "\n",
    "https://stackoverflow.com/questions/40287847/python-matplotlib-bar-chart-adding-bar-titles\n",
    "\n",
    "https://matplotlib.org/stable/gallery/lines_bars_and_markers/bar_label_demo.html\n",
    "\n",
    "https://github.com/AIgineerAB/python_course/tree/main/09_file_handling\n",
    "\n",
    "https://github.com/AIgineerAB/python_course/tree/main/10_dictionary\n",
    "\n",
    "https://github.com/AIgineerAB/python_course/tree/main/11_functions\n",
    "\n",
    "In some of the sources I used some additional once (ex - dictionaries I used the undersources in www3school to see how to get values, keys etc)\n",
    "\n",
    "I also used chatGPT to search for an error in the reading part to be able to get the next line in the text-file\n"
   ]
  },
  {
   "cell_type": "markdown",
   "metadata": {},
   "source": [
    "## Part 1\n"
   ]
  },
  {
   "cell_type": "code",
   "execution_count": 63,
   "metadata": {},
   "outputs": [
    {
     "name": "stdout",
     "output_type": "stream",
     "text": [
      "[{'A': 17, 'T': 7, 'C': 8, 'G': 2}, {'A': 3, 'T': 7, 'C': 4, 'G': 10}, {'A': 18, 'T': 10, 'C': 16, 'G': 16}, {'A': 13, 'T': 10, 'C': 11, 'G': 18}]\n"
     ]
    }
   ],
   "source": [
    "\n",
    "\n",
    "# setting an id variable to 0\n",
    "id = 1\n",
    "\n",
    "# creating an empty list to store the seq in\n",
    "listOfSeq = []\n",
    "\n",
    "# use with and then open() to open the txt file and save it in the variable f\n",
    "# then read() the file and save it in variable dna_text\n",
    "\n",
    "with open(\"dna_raw.txt\", \"r\") as dna_text:\n",
    "\n",
    "    # looping through the textfile line by line\n",
    "    for line in dna_text:\n",
    "\n",
    "        # using strip string function to delete all whitespaces\n",
    "\n",
    "        # if statement to check where the new seq starts\n",
    "        if line.startswith(\">\"):\n",
    "\n",
    "            # setting the seqname to line\n",
    "            seqname = line\n",
    "\n",
    "            # sets the value of the next line/item with the next function\n",
    "            dna = next(dna_text)\n",
    "\n",
    "            # create the seq dictionary and appent their values\n",
    "            seq = {\n",
    "                \"seq_name\": seqname,\n",
    "                \"id\": id,\n",
    "                \"dna\": dna\n",
    "            }\n",
    "\n",
    "            # append each seq to the empty list\n",
    "\n",
    "            listOfSeq.append(seq)\n",
    "\n",
    "            # after each seq add 1 to id\n",
    "            id += 1\n",
    "\n",
    "# creating a list for dna seq counts\n",
    "\n",
    "dnaListCount = []\n",
    "\n",
    "# creating a loop to read for the dna-seq and check the values\n",
    "for line in listOfSeq:\n",
    "\n",
    "    # counting each value (a,t,c,g) in each seq using count()\n",
    "    # adding the lower() to rule out upper/lower case\n",
    "    countedA = line.get(\"dna\").lower().count(\"a\")\n",
    "    countedT = line.get(\"dna\").lower().count(\"t\")\n",
    "    countedC = line.get(\"dna\").lower().count(\"c\")\n",
    "    countedG = line.get(\"dna\").lower().count(\"g\")\n",
    "\n",
    "    # creating a new dictionary to store the dna values in\n",
    "    dnaCount = {\n",
    "\n",
    "        \"A\": countedA,\n",
    "        \"T\": countedT,\n",
    "        \"C\": countedC,\n",
    "        \"G\": countedG\n",
    "    }\n",
    "    # appending it to an dna count list\n",
    "    dnaListCount.append(dnaCount)\n",
    "\n",
    "\n",
    "print(dnaListCount)"
   ]
  },
  {
   "cell_type": "markdown",
   "metadata": {},
   "source": [
    "## Part 2 - Matplotlib\n"
   ]
  },
  {
   "cell_type": "code",
   "execution_count": 118,
   "metadata": {},
   "outputs": [
    {
     "data": {
      "image/png": "[encoded data removed]",
      "text/plain": [
       "<Figure size 640x480 with 1 Axes>"
      ]
     },
     "metadata": {},
     "output_type": "display_data"
    },
    {
     "data": {
      "image/png": "[encoded data removed]",
      "text/plain": [
       "<Figure size 640x480 with 1 Axes>"
      ]
     },
     "metadata": {},
     "output_type": "display_data"
    },
    {
     "data": {
      "image/png": "[encoded data removed]",
      "text/plain": [
       "<Figure size 640x480 with 1 Axes>"
      ]
     },
     "metadata": {},
     "output_type": "display_data"
    },
    {
     "data": {
      "image/png": "[encoded data removed]",
      "text/plain": [
       "<Figure size 640x480 with 1 Axes>"
      ]
     },
     "metadata": {},
     "output_type": "display_data"
    }
   ],
   "source": [
    "# importing matplotlib\n",
    "import matplotlib.pyplot as plt\n",
    "\n",
    "from matplotlib.ticker import MaxNLocator  # to remove floating in the bar\n",
    "\n",
    "# setting an id for the header/title to start at 1\n",
    "id = 1\n",
    "\n",
    "# loopinng the seq of dna in the list\n",
    "for barSeq in dnaListCount:\n",
    "\n",
    "    # setting variables to names and values from the list keys and list values\n",
    "    names = list(barSeq.keys())\n",
    "    values = list(barSeq.values())\n",
    "\n",
    "    # using fig,ax to be able to set the title and label for the x\n",
    "    fig, ax = plt.subplots()\n",
    "    ax.set_title(f\"DNA seq: {id}\")\n",
    "    ax.set_xlabel(\"DNA letters\")\n",
    "\n",
    "    # removes the floting num (17.5 etc) from the bar\n",
    "    ax.yaxis.set_major_locator(MaxNLocator(integer=True))\n",
    "\n",
    "    # plotting the bars based on the names and values in the dnaListCount\n",
    "    plt.bar(names, values)\n",
    "\n",
    "    # showing each seq in a bar\n",
    "    plt.show()\n",
    "\n",
    "    # adding 1 to id after each bar\n",
    "    id += 1"
   ]
  },
  {
   "cell_type": "markdown",
   "metadata": {},
   "source": [
    "## Task 02\n"
   ]
  },
  {
   "cell_type": "markdown",
   "metadata": {},
   "source": [
    "there can be raw DNA data files with different number of sequences.\n",
    "Based on your solution code\n",
    "above, create a function that is able to take in new data files in similar format as dna_raw.txt with\n",
    "different number of sequences, and produce the same results above\n"
   ]
  },
  {
   "cell_type": "markdown",
   "metadata": {},
   "source": [
    "#### part 2 - function for reading file with seq\n"
   ]
  },
  {
   "cell_type": "code",
   "execution_count": 125,
   "metadata": {},
   "outputs": [
    {
     "data": {
      "text/plain": [
       "[{'A': 17, 'T': 7, 'C': 8, 'G': 2}]"
      ]
     },
     "execution_count": 125,
     "metadata": {},
     "output_type": "execute_result"
    }
   ],
   "source": [
    "# function to read a file by using the filename as an argument\n",
    "\n",
    "# importing matplotlib\n",
    "import matplotlib.pyplot as plt\n",
    "\n",
    "from matplotlib.ticker import MaxNLocator  # to remove floating in the bar\n",
    "\n",
    "def data_reading(filename):\n",
    "\n",
    "    functionList = []\n",
    "    id = 1\n",
    "\n",
    "    with open(filename, \"r\") as file:\n",
    "\n",
    "        # looping through the textfile line by line\n",
    "        for line in file:\n",
    "\n",
    "            # using strip string function to delete all whitespaces\n",
    "            line = line.strip()\n",
    "            # if statement to check where the new seq starts\n",
    "            if line.startswith(\">\"):\n",
    "                \n",
    "                \n",
    "                # setting the seqname to line\n",
    "                seqname = line\n",
    "\n",
    "                # sets the value of the next line/item with the next function\n",
    "                dna = next(file)\n",
    "\n",
    "                # create the seq dictionary and appent their values\n",
    "                seq = {\n",
    "                        \"seq_name\": seqname,\n",
    "                        \"id\": id,\n",
    "                        \"dna\": dna\n",
    "                }\n",
    "\n",
    "                # append each seq to the empty list\n",
    "\n",
    "            functionList.append(seq)\n",
    "\n",
    "            # after each seq add 1 to id\n",
    "            id += 1\n",
    "\n",
    "\n",
    "            # creating a list for dna seq counts\n",
    "\n",
    "        dnaListCount = []\n",
    "\n",
    "        # creating a loop to read for the dna-seq and check the values\n",
    "        for line in functionList:\n",
    "\n",
    "            # counting each value (a,t,c,g) in each seq using count()\n",
    "            # adding the lower() to rule out upper/lower case\n",
    "            countedA = line.get(\"dna\").lower().count(\"a\")\n",
    "            countedT = line.get(\"dna\").lower().count(\"t\")\n",
    "            countedC = line.get(\"dna\").lower().count(\"c\")\n",
    "            countedG = line.get(\"dna\").lower().count(\"g\")\n",
    "\n",
    "            # creating a new dictionary to store the dna values in\n",
    "            dnaCount = {\n",
    "\n",
    "                \"A\": countedA,\n",
    "                \"T\": countedT,\n",
    "                \"C\": countedC,\n",
    "                \"G\": countedG\n",
    "            }\n",
    "            # appending it to an dna count list\n",
    "            dnaListCount.append(dnaCount)\n",
    "            \n",
    "        \n",
    "        return(dnaListCount)\n",
    "            \n",
    "\n",
    "\n",
    "data_reading(\"dna_raw.txt\")\n",
    "\n",
    "\n",
    "\n",
    "\n",
    "\n",
    "\n",
    "\n",
    "\n",
    "\n"
   ]
  }
 ],
 "metadata": {
  "kernelspec": {
   "display_name": ".venv",
   "language": "python",
   "name": "python3"
  },
  "language_info": {
   "codemirror_mode": {
    "name": "ipython",
    "version": 3
   },
   "file_extension": ".py",
   "mimetype": "text/x-python",
   "name": "python",
   "nbconvert_exporter": "python",
   "pygments_lexer": "ipython3",
   "version": "3.12.9"
  }
 },
 "nbformat": 4,
 "nbformat_minor": 2
}
