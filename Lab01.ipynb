{
 "cells": [
  {
   "cell_type": "markdown",
   "metadata": {},
   "source": [
    "# Lab 01"
   ]
  },
  {
   "cell_type": "markdown",
   "metadata": {},
   "source": [
    "## Task 01"
   ]
  },
  {
   "cell_type": "markdown",
   "metadata": {},
   "source": [
    "About DNA data: DNA (or deoxyribonucleic acid) is the building block of life. They can be decoded\n",
    "into four letters: A, T, C and G, which represents adenine, thymine, cytosine and guanine. International\n",
    "scientists have been striving to analyze DNA data to improve our understanding of genetic diseases.\n",
    "This research is highly data-intensive as a single human cell can be decoded into 6 billions of DNA\n",
    "letters. Check out The Human Genome Project if you are interested to know more\n",
    "\n",
    "#### some notes from this information \n",
    "\n",
    "- according to the information there is only 4 different values that need to be searched for (atcg). \n",
    "- its also not case sensitive which means there have to be a control to check upper/lower \n",
    "- each seq has a seq id that starts with >\n",
    "\n",
    "\n"
   ]
  },
  {
   "cell_type": "markdown",
   "metadata": {},
   "source": [
    "## open and read the file dna_raw.txt "
   ]
  },
  {
   "cell_type": "markdown",
   "metadata": {},
   "source": [
    "##### Sources: \n",
    "\n",
    "https://www.w3schools.com/python/python_dictionaries.asp\n",
    "\n",
    "https://www.w3schools.com/python/python_strings_methods.asp\n",
    "\n",
    "https://www.w3schools.com/python/ref_func_next.asp\n",
    "\n"
   ]
  },
  {
   "cell_type": "markdown",
   "metadata": {},
   "source": [
    "## Part 1"
   ]
  },
  {
   "cell_type": "code",
   "execution_count": 7,
   "metadata": {},
   "outputs": [
    {
     "name": "stdout",
     "output_type": "stream",
     "text": [
      "[{'A': 17, 'T': 7, 'C': 8, 'G': 2}, {'A': 3, 'T': 7, 'C': 4, 'G': 10}, {'A': 18, 'T': 10, 'C': 16, 'G': 16}, {'A': 13, 'T': 10, 'C': 11, 'G': 18}]\n"
     ]
    }
   ],
   "source": [
    " \n",
    "\n",
    "#setting an id variable to 0 \n",
    "id = 0\n",
    "\n",
    "#creating an empty list to store the seq in \n",
    "listOfSeq =[]\n",
    "\n",
    "#use with and then open() to open the txt file and save it in the variable f \n",
    "#then read() the file and save it in variable dna_text\n",
    "\n",
    "with open(\"dna_raw.txt\", \"r\") as dna_text: \n",
    "    \n",
    "    #looping through the textfile line by line\n",
    "    for line in dna_text: \n",
    "\n",
    "        #using strip string function to delete all whitespaces \n",
    "        \n",
    "\n",
    "        #if statement to check where the new seq starts \n",
    "        if line.startswith(\">\"):\n",
    "\n",
    "            #setting the seqname to line\n",
    "            seqname = line\n",
    "\n",
    "            #sets the value of the next line/item with the next function\n",
    "            dna = next(dna_text)\n",
    "        \n",
    "            #create the seq dictionary and appent their values \n",
    "            seq = {\n",
    "                \"seq_name\": seqname,\n",
    "                \"id\": id,\n",
    "                \"dna\": dna\n",
    "            }\n",
    "        \n",
    "            #append each seq to the empty list \n",
    "        \n",
    "            listOfSeq.append(seq)\n",
    "            \n",
    "            #after each seq add 1 to id\n",
    "            id += 1\n",
    "\n",
    "#creating a list for dna seq counts \n",
    "\n",
    "dnaListCount = []\n",
    "\n",
    "#creating a loop to read for the dna-seq and check the values \n",
    "for line in listOfSeq:\n",
    "    \n",
    "    #counting each value (a,t,c,g) in each seq using count()\n",
    "    #adding the lower() to rule out upper/lower case \n",
    "    countedA = line.get(\"dna\").lower().count(\"a\")\n",
    "    countedT = line.get(\"dna\").lower().count(\"t\")\n",
    "    countedC = line.get(\"dna\").lower().count(\"c\")\n",
    "    countedG = line.get(\"dna\").lower().count(\"g\")\n",
    "\n",
    "    #creating a new dictionary to store the dna values in\n",
    "    dnaCount = {\n",
    "        \n",
    "        \"A\": countedA,\n",
    "        \"T\": countedT,\n",
    "        \"C\": countedC,\n",
    "        \"G\": countedG\n",
    "    }\n",
    "    #appending it to an dna count list \n",
    "    dnaListCount.append(dnaCount)\n",
    "\n",
    "\n",
    "print(dnaListCount)\n",
    "\n"
   ]
  },
  {
   "cell_type": "markdown",
   "metadata": {},
   "source": [
    "## Part 2 - Matplotlib"
   ]
  },
  {
   "cell_type": "code",
   "execution_count": 10,
   "metadata": {},
   "outputs": [
    {
     "name": "stdout",
     "output_type": "stream",
     "text": [
      "A\n",
      "T\n",
      "C\n",
      "G\n"
     ]
    }
   ],
   "source": [
    "import matplotlib.pyplot as plt \n",
    "\n"
   ]
  },
  {
   "cell_type": "markdown",
   "metadata": {},
   "source": [
    "### \n",
    "\n"
   ]
  },
  {
   "cell_type": "code",
   "execution_count": null,
   "metadata": {},
   "outputs": [],
   "source": []
  },
  {
   "cell_type": "markdown",
   "metadata": {},
   "source": []
  }
 ],
 "metadata": {
  "kernelspec": {
   "display_name": ".venv",
   "language": "python",
   "name": "python3"
  },
  "language_info": {
   "codemirror_mode": {
    "name": "ipython",
    "version": 3
   },
   "file_extension": ".py",
   "mimetype": "text/x-python",
   "name": "python",
   "nbconvert_exporter": "python",
   "pygments_lexer": "ipython3",
   "version": "3.12.9"
  }
 },
 "nbformat": 4,
 "nbformat_minor": 2
}
