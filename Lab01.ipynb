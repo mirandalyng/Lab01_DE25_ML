{
 "cells": [
  {
   "cell_type": "markdown",
   "metadata": {},
   "source": [
    "# Lab 01"
   ]
  },
  {
   "cell_type": "markdown",
   "metadata": {},
   "source": [
    "## Task 01"
   ]
  },
  {
   "cell_type": "markdown",
   "metadata": {},
   "source": [
    "About DNA data: DNA (or deoxyribonucleic acid) is the building block of life. They can be decoded\n",
    "into four letters: A, T, C and G, which represents adenine, thymine, cytosine and guanine. International\n",
    "scientists have been striving to analyze DNA data to improve our understanding of genetic diseases.\n",
    "This research is highly data-intensive as a single human cell can be decoded into 6 billions of DNA\n",
    "letters. Check out The Human Genome Project if you are interested to know more\n",
    "\n",
    "#### some notes from this information \n",
    "\n",
    "- according to the information there is only 4 different values that need to be searched for (atcg). \n",
    "- its also not case sensitive which means there doesn't have to be a control to check upper/lower \n",
    "- each seq has a seq id that starts with >\n",
    "\n",
    "\n"
   ]
  },
  {
   "cell_type": "markdown",
   "metadata": {},
   "source": [
    "### Pseducode\n",
    "\n",
    "1. read the file \n",
    "2. "
   ]
  },
  {
   "cell_type": "markdown",
   "metadata": {},
   "source": [
    "## open and read the file dna_raw.txt "
   ]
  },
  {
   "cell_type": "markdown",
   "metadata": {},
   "source": [
    "##### Sources: \n",
    "\n",
    "https://www.w3schools.com/python/python_dictionaries.asp\n",
    "\n",
    "https://www.w3schools.com/python/python_strings_methods.asp\n",
    "\n"
   ]
  },
  {
   "cell_type": "code",
   "execution_count": 16,
   "metadata": {},
   "outputs": [
    {
     "name": "stdout",
     "output_type": "stream",
     "text": [
      "cGTAaccaataaaaaaacaagcttaacctaattc\n",
      "agcttagTTTGGatctggccgggg\n",
      "gcggatttactcCCCCCAAAAANNaggggagagcccagataaatggagtctgtgcgtccaca\n",
      "gcggatttactcaggggagagcccagGGataaatggagtctgtgcgtccaca\n"
     ]
    }
   ],
   "source": [
    " \n",
    "\n",
    "#setting an id variable to 0 \n",
    "id = 0\n",
    "\n",
    "#creating an empty list to store the seq in \n",
    "listOfSeq =[]\n",
    "\n",
    "#use with and then open() to open the txt file and save it in the variable f \n",
    "#then read() the file and save it in variable dna_text\n",
    "\n",
    "with open(\"dna_raw.txt\", \"r\") as dna_text: \n",
    "    \n",
    "    #looping through the textfile line by line\n",
    "    for line in dna_text: \n",
    "        #using strip string function to delete all whitespaces \n",
    "        line = line.strip()\n",
    "        #if statement to check where the new seq starts \n",
    "        if line.startswith(\">\"):\n",
    "            #setting the seqname to line\n",
    "            seqname= line\n",
    "            #sets the value of the next line/item with the next function\n",
    "            dna = next(dna_text).strip()\n",
    "        \n",
    "            #create the seq dictionary and appent their values \n",
    "            seq = {\n",
    "                \"seq_name\": seqname,\n",
    "                \"id\": id,\n",
    "                \"dna\": dna\n",
    "            }\n",
    "        \n",
    "            #append each seq to the empty list \n",
    "        \n",
    "            listOfSeq.append(seq)\n",
    "            \n",
    "            #after each seq add 1 to id\n",
    "            id += 1\n",
    "\n",
    "        \n",
    "\n",
    "            \n",
    "\n",
    "\n",
    "\n",
    "for s in listOfSeq:\n",
    "    print(s.get(\"dna\"))\n",
    "\n"
   ]
  },
  {
   "cell_type": "markdown",
   "metadata": {},
   "source": [
    "### \n",
    "\n"
   ]
  },
  {
   "cell_type": "code",
   "execution_count": null,
   "metadata": {},
   "outputs": [],
   "source": []
  },
  {
   "cell_type": "markdown",
   "metadata": {},
   "source": []
  }
 ],
 "metadata": {
  "kernelspec": {
   "display_name": ".venv",
   "language": "python",
   "name": "python3"
  },
  "language_info": {
   "codemirror_mode": {
    "name": "ipython",
    "version": 3
   },
   "file_extension": ".py",
   "mimetype": "text/x-python",
   "name": "python",
   "nbconvert_exporter": "python",
   "pygments_lexer": "ipython3",
   "version": "3.12.9"
  }
 },
 "nbformat": 4,
 "nbformat_minor": 2
}
